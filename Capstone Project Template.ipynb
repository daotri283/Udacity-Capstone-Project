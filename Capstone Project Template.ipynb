{
 "cells": [
  {
   "cell_type": "markdown",
   "metadata": {
    "editable": true
   },
   "source": [
    "# Project Title\n",
    "### Data Engineering Capstone Project\n",
    "\n",
    "#### Project Summary\n",
    "--describe your project at a high level--\n",
    "\n",
    "The project follows the follow steps:\n",
    "* Step 1: Scope the Project and Gather Data\n",
    "* Step 2: Explore and Assess the Data\n",
    "* Step 3: Define the Data Model\n",
    "* Step 4: Run ETL to Model the Data\n",
    "* Step 5: Complete Project Write Up"
   ]
  },
  {
   "cell_type": "code",
   "execution_count": 1,
   "metadata": {
    "editable": true
   },
   "outputs": [],
   "source": [
    "# Do all imports and installs here\n",
    "import pandas as pd\n",
    "import matplotlib.pyplot as plt\n",
    "import seaborn as sns\n",
    "\n",
    "from pyspark.sql import SparkSession\n",
    "from pyspark.sql.functions import avg\n",
    "from pyspark.sql import SQLContext\n",
    "from pyspark.sql.functions import isnan, when, trim, count, upper, col, udf, dayofmonth, dayofweek, month, year, weekofyear, desc\n",
    "from pyspark.sql.functions import monotonically_increasing_id \n",
    "from pyspark.sql.types import *\n",
    "from datetime import timedelta, datetime\n"
   ]
  },
  {
   "cell_type": "markdown",
   "metadata": {
    "editable": true
   },
   "source": [
    "### Step 1: Scope the Project and Gather Data\n",
    "\n",
    "#### Project Summary\n",
    "The aim of this project is to create a OLAP system to support Business Intelligence using\n",
    "the datasets that are mentioned below. With the system created by this project, we can have an idea of how factors like demographics or temperature can have an affect on immigration to the US.\n",
    "\n",
    "#### Scope\n",
    "\n",
    "This project will use 4 datasets to, which are: <br>\n",
    "* [I94 Immigration Data](https://www.trade.gov/national-travel-and-tourism-office) : This data comes from the US National Tourism and Trade Office. <br>\n",
    "* [World Temperature Data](https://www.kaggle.com/datasets/berkeleyearth/climate-change-earth-surface-temperature-data): This dataset came from Kaggle. <br>\n",
    "* [U.S. City Demographic Data](https://public.opendatasoft.com/explore/dataset/us-cities-demographics/export/): This data comes from OpenSoft. <br>\n",
    "* [Airport Code Table](https://datahub.io/core/airport-codes#data): This is a simple table of airport codes and corresponding cities. <br>\n",
    "\n",
    "Tools that are used: <br>\n",
    "* AWS S3 for data storage\n",
    "* Spark for big data processing\n",
    "* Pandas for data wrangling\n",
    "\n",
    "Step to complete the project: \n",
    "* Load data into pandas and spark for data exploratory analysis \n",
    "* Data cleaning on all tables: removing null values, duplicates \n",
    "* Create fact table\n",
    "* Create dimension tables \n",
    "* Load fact and dimension tables into S3\n",
    "* Copy data from S3 to Redshift "
   ]
  },
  {
   "cell_type": "markdown",
   "metadata": {
    "editable": true
   },
   "source": [
    "### Describe and Gather data\n",
    "<strong>I94 Immigration data </strong>: this data comes from National Travel and Tourism Office (NTTO), which provides statistic for travel and tourism industry. Form I-94 is the DHS Arrival/Departure Record issued to aliens who are admitted to the U.S., who are adjusting status while in the U.S. or extending their stay, among other things. A CBP officer gen- erally attaches the I-94 to the non-immigrant visi- tor's passport upon U.S. entry.The dataset comes from this I94 form <br>\n",
    "<strong>World Temperature data</strong>: this data comes from Kaggle, it represents the global land temperatures by city  <br>\n",
    "<strong>U.S City Demographic data</strong>: this dataset comes from the US Census Bureau's 2015 American Community Survey. It contains information about the demographics of all US cities and census-designated places with a population greater or equal to 65,000. <br>\n",
    "<strong > Airport code table </strong>: This is a simple table of airport codes and corresponding cities. The airport codes may refer to either IATA airport code, a three-letter code which is used in passenger reservation, ticketing and baggage-handling systems, or the ICAO airport code which is a four letter code used by ATC systems and for airports that do not have an IATA airport code (from wikipedia)<br>"
   ]
  },
  {
   "cell_type": "markdown",
   "metadata": {
    "editable": true
   },
   "source": [
    "### Step 2: Explore and Assess the Data\n",
    "#### Explore the Data \n",
    "Identify data quality issues, like missing values, duplicate data, etc.\n",
    "\n",
    "#### Cleaning Steps\n",
    "Document steps necessary to clean the data"
   ]
  },
  {
   "cell_type": "markdown",
   "metadata": {
    "editable": true
   },
   "source": [
    "#### Immigration data"
   ]
  },
  {
   "cell_type": "code",
   "execution_count": 2,
   "metadata": {
    "editable": true
   },
   "outputs": [],
   "source": [
    "# Read in the data here\n",
    "spark = SparkSession.builder\\\n",
    "                    .config(\"spark.jars.repositories\", \"https://repos.spark-packages.org/\")\\\n",
    "                    .config(\"spark.jars.packages\", \"saurfang:spark-sas7bdat:2.0.0-s_2.11\")\\\n",
    "                    .config(\"spark.sql.broadcastTimeout\", \"-1\")\\\n",
    "                    .enableHiveSupport()\\\n",
    "                    .getOrCreate()\n",
    "\n",
    "immigration_df = spark.read.format('com.github.saurfang.sas.spark')\\\n",
    "                      .load('../../data/18-83510-I94-Data-2016/i94_apr16_sub.sas7bdat')\n"
   ]
  },
  {
   "cell_type": "code",
   "execution_count": 3,
   "metadata": {
    "editable": true
   },
   "outputs": [
    {
     "data": {
      "text/plain": [
       "3096313"
      ]
     },
     "execution_count": 3,
     "metadata": {},
     "output_type": "execute_result"
    }
   ],
   "source": [
    "#write to parquet\n",
    "# df_spark.write.parquet(\"sas_data\")\n",
    "immigration_df=spark.read.parquet(\"sas_data\")\n",
    "immigration_df.count()"
   ]
  },
  {
   "cell_type": "code",
   "execution_count": 4,
   "metadata": {
    "editable": true
   },
   "outputs": [
    {
     "name": "stdout",
     "output_type": "stream",
     "text": [
      "root\n",
      " |-- cicid: double (nullable = true)\n",
      " |-- i94yr: double (nullable = true)\n",
      " |-- i94mon: double (nullable = true)\n",
      " |-- i94cit: double (nullable = true)\n",
      " |-- i94res: double (nullable = true)\n",
      " |-- i94port: string (nullable = true)\n",
      " |-- arrdate: double (nullable = true)\n",
      " |-- i94mode: double (nullable = true)\n",
      " |-- i94addr: string (nullable = true)\n",
      " |-- depdate: double (nullable = true)\n",
      " |-- i94bir: double (nullable = true)\n",
      " |-- i94visa: double (nullable = true)\n",
      " |-- count: double (nullable = true)\n",
      " |-- dtadfile: string (nullable = true)\n",
      " |-- visapost: string (nullable = true)\n",
      " |-- occup: string (nullable = true)\n",
      " |-- entdepa: string (nullable = true)\n",
      " |-- entdepd: string (nullable = true)\n",
      " |-- entdepu: string (nullable = true)\n",
      " |-- matflag: string (nullable = true)\n",
      " |-- biryear: double (nullable = true)\n",
      " |-- dtaddto: string (nullable = true)\n",
      " |-- gender: string (nullable = true)\n",
      " |-- insnum: string (nullable = true)\n",
      " |-- airline: string (nullable = true)\n",
      " |-- admnum: double (nullable = true)\n",
      " |-- fltno: string (nullable = true)\n",
      " |-- visatype: string (nullable = true)\n",
      "\n"
     ]
    }
   ],
   "source": [
    "immigration_df.printSchema()"
   ]
  },
  {
   "cell_type": "code",
   "execution_count": 5,
   "metadata": {
    "editable": true
   },
   "outputs": [],
   "source": [
    "def plot_null_count_sparkdf(df):\n",
    "    # Getting null data\n",
    "    null_df = df.select([count(when(isnan(c) | col(c).isNull(), c)).alias(c) for c in df.columns]).toPandas()\n",
    "    null_df = null_df.T\n",
    "    null_df.columns = ['null_counts']\n",
    "    null_df['null_counts_pct'] = null_df['null_counts'] / df.count() * 100\n",
    "    null_df['columns']= null_df.index\n",
    "    \n",
    "    # Plotting null data\n",
    "    plt.figure(figsize=(10,5))\n",
    "    ax = sns.barplot(x='columns', y='null_counts_pct', data=null_df)\n",
    "    ax.set_ylim(0, 100)\n",
    "    ax.set_xticklabels(ax.get_xticklabels(), rotation=90)\n",
    "    plt.show()"
   ]
  },
  {
   "cell_type": "code",
   "execution_count": 6,
   "metadata": {
    "editable": true
   },
   "outputs": [
    {
     "data": {
      "image/png": "[encoded data removed]",
      "text/plain": [
       "<matplotlib.figure.Figure at 0x7fb309160ac8>"
      ]
     },
     "metadata": {
      "needs_background": "light"
     },
     "output_type": "display_data"
    }
   ],
   "source": [
    "%matplotlib inline\n",
    "plot_null_count_sparkdf(immigration_df)"
   ]
  },
  {
   "cell_type": "code",
   "execution_count": 7,
   "metadata": {
    "editable": true
   },
   "outputs": [],
   "source": [
    "# Data Cleaning for Immigartion df\n",
    "# Drop the columns with more than 80% null values\n",
    "drop_col_list = ['occup', 'entdepu','insnum']\n",
    "immigration_df = immigration_df.drop(*drop_col_list)"
   ]
  },
  {
   "cell_type": "code",
   "execution_count": 8,
   "metadata": {
    "editable": true
   },
   "outputs": [
    {
     "name": "stdout",
     "output_type": "stream",
     "text": [
      "root\n",
      " |-- cicid: double (nullable = true)\n",
      " |-- i94yr: double (nullable = true)\n",
      " |-- i94mon: double (nullable = true)\n",
      " |-- i94cit: double (nullable = true)\n",
      " |-- i94res: double (nullable = true)\n",
      " |-- i94port: string (nullable = true)\n",
      " |-- arrdate: double (nullable = true)\n",
      " |-- i94mode: double (nullable = true)\n",
      " |-- i94addr: string (nullable = true)\n",
      " |-- depdate: double (nullable = true)\n",
      " |-- i94bir: double (nullable = true)\n",
      " |-- i94visa: double (nullable = true)\n",
      " |-- count: double (nullable = true)\n",
      " |-- dtadfile: string (nullable = true)\n",
      " |-- visapost: string (nullable = true)\n",
      " |-- entdepa: string (nullable = true)\n",
      " |-- entdepd: string (nullable = true)\n",
      " |-- matflag: string (nullable = true)\n",
      " |-- biryear: double (nullable = true)\n",
      " |-- dtaddto: string (nullable = true)\n",
      " |-- gender: string (nullable = true)\n",
      " |-- airline: string (nullable = true)\n",
      " |-- admnum: double (nullable = true)\n",
      " |-- fltno: string (nullable = true)\n",
      " |-- visatype: string (nullable = true)\n",
      "\n"
     ]
    }
   ],
   "source": [
    "immigration_df.printSchema()"
   ]
  },
  {
   "cell_type": "code",
   "execution_count": 9,
   "metadata": {
    "editable": true
   },
   "outputs": [
    {
     "name": "stdout",
     "output_type": "stream",
     "text": [
      "Number of records before dropping duplicate:3096313\n",
      "Number of records after dropping duplicate:3096313\n"
     ]
    }
   ],
   "source": [
    "# Drop duplicate \n",
    "print(f'Number of records before dropping duplicate:{immigration_df.count()}')\n",
    "immigration_df = immigration_df.dropDuplicates()\n",
    "print(f'Number of records after dropping duplicate:{immigration_df.count()}')"
   ]
  },
  {
   "cell_type": "code",
   "execution_count": 10,
   "metadata": {
    "editable": true
   },
   "outputs": [],
   "source": [
    "# convert arrdate column to datetime \n",
    "@udf(TimestampType())\n",
    "def convert_timestamp(arrdate):\n",
    "    return (datetime(1960,1,1) + timedelta(days=int(arrdate)))\n",
    "    \n",
    "immigration_df = immigration_df.withColumn(\"arrdate\", convert_timestamp(immigration_df.arrdate))"
   ]
  },
  {
   "cell_type": "markdown",
   "metadata": {
    "editable": true
   },
   "source": [
    "##### World Temeperature data"
   ]
  },
  {
   "cell_type": "code",
   "execution_count": 11,
   "metadata": {
    "editable": true
   },
   "outputs": [],
   "source": [
    "file_name = '../../data2/GlobalLandTemperaturesByCity.csv'\n",
    "temperature_df = spark.read.csv(file_name, header=True, inferSchema=True)\n",
    "temperature_df_temp = temperature_df.withColumn(\"dt\",col(\"dt\").cast(StringType())) # convert dt column type to string for visualization"
   ]
  },
  {
   "cell_type": "code",
   "execution_count": 12,
   "metadata": {
    "editable": true
   },
   "outputs": [
    {
     "data": {
      "text/plain": [
       "8599212"
      ]
     },
     "execution_count": 12,
     "metadata": {},
     "output_type": "execute_result"
    }
   ],
   "source": [
    "temperature_df.count()"
   ]
  },
  {
   "cell_type": "code",
   "execution_count": 13,
   "metadata": {
    "editable": true
   },
   "outputs": [
    {
     "name": "stdout",
     "output_type": "stream",
     "text": [
      "root\n",
      " |-- dt: timestamp (nullable = true)\n",
      " |-- AverageTemperature: double (nullable = true)\n",
      " |-- AverageTemperatureUncertainty: double (nullable = true)\n",
      " |-- City: string (nullable = true)\n",
      " |-- Country: string (nullable = true)\n",
      " |-- Latitude: string (nullable = true)\n",
      " |-- Longitude: string (nullable = true)\n",
      "\n"
     ]
    }
   ],
   "source": [
    "temperature_df.printSchema()"
   ]
  },
  {
   "cell_type": "code",
   "execution_count": 14,
   "metadata": {
    "editable": true
   },
   "outputs": [
    {
     "data": {
      "image/png": "[encoded data removed]",
      "text/plain": [
       "<matplotlib.figure.Figure at 0x7fb30552b668>"
      ]
     },
     "metadata": {
      "needs_background": "light"
     },
     "output_type": "display_data"
    }
   ],
   "source": [
    "%matplotlib inline\n",
    "plot_null_count_sparkdf(temperature_df_temp)"
   ]
  },
  {
   "cell_type": "code",
   "execution_count": 15,
   "metadata": {
    "editable": true
   },
   "outputs": [],
   "source": [
    "# Drop the null values from 2 columns AverageTemperature and AverageTemperatureUncertainty\n",
    "drop_col_list = ['AverageTemperature', 'AverageTemperatureUncertainty']\n",
    "temperature_df = temperature_df.dropna(how='any',subset=drop_col_list)"
   ]
  },
  {
   "cell_type": "code",
   "execution_count": 16,
   "metadata": {
    "editable": true
   },
   "outputs": [
    {
     "data": {
      "text/html": [
       "<div>\n",
       "<style scoped>\n",
       "    .dataframe tbody tr th:only-of-type {\n",
       "        vertical-align: middle;\n",
       "    }\n",
       "\n",
       "    .dataframe tbody tr th {\n",
       "        vertical-align: top;\n",
       "    }\n",
       "\n",
       "    .dataframe thead th {\n",
       "        text-align: right;\n",
       "    }\n",
       "</style>\n",
       "<table border=\"1\" class=\"dataframe\">\n",
       "  <thead>\n",
       "    <tr style=\"text-align: right;\">\n",
       "      <th></th>\n",
       "      <th>dt</th>\n",
       "      <th>AverageTemperature</th>\n",
       "      <th>AverageTemperatureUncertainty</th>\n",
       "      <th>City</th>\n",
       "      <th>Country</th>\n",
       "      <th>Latitude</th>\n",
       "      <th>Longitude</th>\n",
       "      <th>country_name</th>\n",
       "    </tr>\n",
       "  </thead>\n",
       "  <tbody>\n",
       "    <tr>\n",
       "      <th>0</th>\n",
       "      <td>1743-11-01</td>\n",
       "      <td>6.068</td>\n",
       "      <td>1.737</td>\n",
       "      <td>Århus</td>\n",
       "      <td>Denmark</td>\n",
       "      <td>57.05N</td>\n",
       "      <td>10.33E</td>\n",
       "      <td>DENMARK</td>\n",
       "    </tr>\n",
       "    <tr>\n",
       "      <th>1</th>\n",
       "      <td>1744-04-01</td>\n",
       "      <td>5.788</td>\n",
       "      <td>3.624</td>\n",
       "      <td>Århus</td>\n",
       "      <td>Denmark</td>\n",
       "      <td>57.05N</td>\n",
       "      <td>10.33E</td>\n",
       "      <td>DENMARK</td>\n",
       "    </tr>\n",
       "    <tr>\n",
       "      <th>2</th>\n",
       "      <td>1744-05-01</td>\n",
       "      <td>10.644</td>\n",
       "      <td>1.283</td>\n",
       "      <td>Århus</td>\n",
       "      <td>Denmark</td>\n",
       "      <td>57.05N</td>\n",
       "      <td>10.33E</td>\n",
       "      <td>DENMARK</td>\n",
       "    </tr>\n",
       "    <tr>\n",
       "      <th>3</th>\n",
       "      <td>1744-06-01</td>\n",
       "      <td>14.051</td>\n",
       "      <td>1.347</td>\n",
       "      <td>Århus</td>\n",
       "      <td>Denmark</td>\n",
       "      <td>57.05N</td>\n",
       "      <td>10.33E</td>\n",
       "      <td>DENMARK</td>\n",
       "    </tr>\n",
       "    <tr>\n",
       "      <th>4</th>\n",
       "      <td>1744-07-01</td>\n",
       "      <td>16.082</td>\n",
       "      <td>1.396</td>\n",
       "      <td>Århus</td>\n",
       "      <td>Denmark</td>\n",
       "      <td>57.05N</td>\n",
       "      <td>10.33E</td>\n",
       "      <td>DENMARK</td>\n",
       "    </tr>\n",
       "  </tbody>\n",
       "</table>\n",
       "</div>"
      ],
      "text/plain": [
       "          dt  AverageTemperature  AverageTemperatureUncertainty   City  \\\n",
       "0 1743-11-01               6.068                          1.737  Århus   \n",
       "1 1744-04-01               5.788                          3.624  Århus   \n",
       "2 1744-05-01              10.644                          1.283  Århus   \n",
       "3 1744-06-01              14.051                          1.347  Århus   \n",
       "4 1744-07-01              16.082                          1.396  Århus   \n",
       "\n",
       "   Country Latitude Longitude country_name  \n",
       "0  Denmark   57.05N    10.33E      DENMARK  \n",
       "1  Denmark   57.05N    10.33E      DENMARK  \n",
       "2  Denmark   57.05N    10.33E      DENMARK  \n",
       "3  Denmark   57.05N    10.33E      DENMARK  \n",
       "4  Denmark   57.05N    10.33E      DENMARK  "
      ]
     },
     "execution_count": 16,
     "metadata": {},
     "output_type": "execute_result"
    }
   ],
   "source": [
    "from pyspark.sql.functions import upper, col\n",
    "temperature_df=temperature_df.select(\"*\", upper(col('Country')))\n",
    "temperature_df = temperature_df.withColumnRenamed('upper(Country)','country_name')\n",
    "temperature_df.limit(5).toPandas()"
   ]
  },
  {
   "cell_type": "code",
   "execution_count": 17,
   "metadata": {
    "editable": true
   },
   "outputs": [
    {
     "name": "stdout",
     "output_type": "stream",
     "text": [
      "Number of records before dropping duplicate:8235082\n",
      "Number of records after dropping duplicate:8235082\n"
     ]
    }
   ],
   "source": [
    "# Drop duplicate \n",
    "print(f'Number of records before dropping duplicate:{temperature_df.count()}')\n",
    "temperature_df = temperature_df.dropDuplicates()\n",
    "print(f'Number of records after dropping duplicate:{temperature_df.count()}')"
   ]
  },
  {
   "cell_type": "markdown",
   "metadata": {
    "editable": true
   },
   "source": [
    "##### U.S. City Demographic Data"
   ]
  },
  {
   "cell_type": "code",
   "execution_count": 18,
   "metadata": {
    "editable": true
   },
   "outputs": [
    {
     "data": {
      "text/plain": [
       "2891"
      ]
     },
     "execution_count": 18,
     "metadata": {},
     "output_type": "execute_result"
    }
   ],
   "source": [
    "file_name = \"us-cities-demographics.csv\"\n",
    "demographics_df = spark.read.csv(file_name, inferSchema=True, header=True, sep=';')\n",
    "demographics_df.count()"
   ]
  },
  {
   "cell_type": "code",
   "execution_count": 19,
   "metadata": {
    "editable": true
   },
   "outputs": [
    {
     "name": "stdout",
     "output_type": "stream",
     "text": [
      "root\n",
      " |-- City: string (nullable = true)\n",
      " |-- State: string (nullable = true)\n",
      " |-- Median Age: double (nullable = true)\n",
      " |-- Male Population: integer (nullable = true)\n",
      " |-- Female Population: integer (nullable = true)\n",
      " |-- Total Population: integer (nullable = true)\n",
      " |-- Number of Veterans: integer (nullable = true)\n",
      " |-- Foreign-born: integer (nullable = true)\n",
      " |-- Average Household Size: double (nullable = true)\n",
      " |-- State Code: string (nullable = true)\n",
      " |-- Race: string (nullable = true)\n",
      " |-- Count: integer (nullable = true)\n",
      "\n"
     ]
    }
   ],
   "source": [
    "demographics_df.printSchema()"
   ]
  },
  {
   "cell_type": "code",
   "execution_count": 20,
   "metadata": {
    "editable": true
   },
   "outputs": [
    {
     "data": {
      "text/html": [
       "<div>\n",
       "<style scoped>\n",
       "    .dataframe tbody tr th:only-of-type {\n",
       "        vertical-align: middle;\n",
       "    }\n",
       "\n",
       "    .dataframe tbody tr th {\n",
       "        vertical-align: top;\n",
       "    }\n",
       "\n",
       "    .dataframe thead th {\n",
       "        text-align: right;\n",
       "    }\n",
       "</style>\n",
       "<table border=\"1\" class=\"dataframe\">\n",
       "  <thead>\n",
       "    <tr style=\"text-align: right;\">\n",
       "      <th></th>\n",
       "      <th>City</th>\n",
       "      <th>State</th>\n",
       "      <th>Median Age</th>\n",
       "      <th>Male Population</th>\n",
       "      <th>Female Population</th>\n",
       "      <th>Total Population</th>\n",
       "      <th>Number of Veterans</th>\n",
       "      <th>Foreign-born</th>\n",
       "      <th>Average Household Size</th>\n",
       "      <th>State Code</th>\n",
       "      <th>Race</th>\n",
       "      <th>Count</th>\n",
       "    </tr>\n",
       "  </thead>\n",
       "  <tbody>\n",
       "    <tr>\n",
       "      <th>0</th>\n",
       "      <td>Silver Spring</td>\n",
       "      <td>Maryland</td>\n",
       "      <td>33.8</td>\n",
       "      <td>40601</td>\n",
       "      <td>41862</td>\n",
       "      <td>82463</td>\n",
       "      <td>1562</td>\n",
       "      <td>30908</td>\n",
       "      <td>2.60</td>\n",
       "      <td>MD</td>\n",
       "      <td>Hispanic or Latino</td>\n",
       "      <td>25924</td>\n",
       "    </tr>\n",
       "    <tr>\n",
       "      <th>1</th>\n",
       "      <td>Quincy</td>\n",
       "      <td>Massachusetts</td>\n",
       "      <td>41.0</td>\n",
       "      <td>44129</td>\n",
       "      <td>49500</td>\n",
       "      <td>93629</td>\n",
       "      <td>4147</td>\n",
       "      <td>32935</td>\n",
       "      <td>2.39</td>\n",
       "      <td>MA</td>\n",
       "      <td>White</td>\n",
       "      <td>58723</td>\n",
       "    </tr>\n",
       "    <tr>\n",
       "      <th>2</th>\n",
       "      <td>Hoover</td>\n",
       "      <td>Alabama</td>\n",
       "      <td>38.5</td>\n",
       "      <td>38040</td>\n",
       "      <td>46799</td>\n",
       "      <td>84839</td>\n",
       "      <td>4819</td>\n",
       "      <td>8229</td>\n",
       "      <td>2.58</td>\n",
       "      <td>AL</td>\n",
       "      <td>Asian</td>\n",
       "      <td>4759</td>\n",
       "    </tr>\n",
       "    <tr>\n",
       "      <th>3</th>\n",
       "      <td>Rancho Cucamonga</td>\n",
       "      <td>California</td>\n",
       "      <td>34.5</td>\n",
       "      <td>88127</td>\n",
       "      <td>87105</td>\n",
       "      <td>175232</td>\n",
       "      <td>5821</td>\n",
       "      <td>33878</td>\n",
       "      <td>3.18</td>\n",
       "      <td>CA</td>\n",
       "      <td>Black or African-American</td>\n",
       "      <td>24437</td>\n",
       "    </tr>\n",
       "    <tr>\n",
       "      <th>4</th>\n",
       "      <td>Newark</td>\n",
       "      <td>New Jersey</td>\n",
       "      <td>34.6</td>\n",
       "      <td>138040</td>\n",
       "      <td>143873</td>\n",
       "      <td>281913</td>\n",
       "      <td>5829</td>\n",
       "      <td>86253</td>\n",
       "      <td>2.73</td>\n",
       "      <td>NJ</td>\n",
       "      <td>White</td>\n",
       "      <td>76402</td>\n",
       "    </tr>\n",
       "  </tbody>\n",
       "</table>\n",
       "</div>"
      ],
      "text/plain": [
       "               City          State  Median Age  Male Population  \\\n",
       "0     Silver Spring       Maryland        33.8            40601   \n",
       "1            Quincy  Massachusetts        41.0            44129   \n",
       "2            Hoover        Alabama        38.5            38040   \n",
       "3  Rancho Cucamonga     California        34.5            88127   \n",
       "4            Newark     New Jersey        34.6           138040   \n",
       "\n",
       "   Female Population  Total Population  Number of Veterans  Foreign-born  \\\n",
       "0              41862             82463                1562         30908   \n",
       "1              49500             93629                4147         32935   \n",
       "2              46799             84839                4819          8229   \n",
       "3              87105            175232                5821         33878   \n",
       "4             143873            281913                5829         86253   \n",
       "\n",
       "   Average Household Size State Code                       Race  Count  \n",
       "0                    2.60         MD         Hispanic or Latino  25924  \n",
       "1                    2.39         MA                      White  58723  \n",
       "2                    2.58         AL                      Asian   4759  \n",
       "3                    3.18         CA  Black or African-American  24437  \n",
       "4                    2.73         NJ                      White  76402  "
      ]
     },
     "execution_count": 20,
     "metadata": {},
     "output_type": "execute_result"
    }
   ],
   "source": [
    "demographics_df.limit(5).toPandas()"
   ]
  },
  {
   "cell_type": "code",
   "execution_count": 21,
   "metadata": {
    "editable": true
   },
   "outputs": [
    {
     "data": {
      "image/png": "[encoded data removed]",
      "text/plain": [
       "<matplotlib.figure.Figure at 0x7fb305469668>"
      ]
     },
     "metadata": {
      "needs_background": "light"
     },
     "output_type": "display_data"
    }
   ],
   "source": [
    "%matplotlib inline\n",
    "plot_null_count_sparkdf(demographics_df)"
   ]
  },
  {
   "cell_type": "markdown",
   "metadata": {
    "editable": true
   },
   "source": [
    "##### Since demographic data don't have too many missing value, we don't have to drop any column"
   ]
  },
  {
   "cell_type": "code",
   "execution_count": 22,
   "metadata": {
    "editable": true
   },
   "outputs": [
    {
     "name": "stdout",
     "output_type": "stream",
     "text": [
      "Number of records before dropping duplicate:2891\n",
      "Number of records after dropping duplicate:2891\n"
     ]
    }
   ],
   "source": [
    "# Drop duplicate \n",
    "print(f'Number of records before dropping duplicate:{demographics_df.count()}')\n",
    "demographics_df = demographics_df.dropDuplicates()\n",
    "print(f'Number of records after dropping duplicate:{demographics_df.count()}')"
   ]
  },
  {
   "cell_type": "markdown",
   "metadata": {
    "editable": true
   },
   "source": [
    "#### Airport Code \n"
   ]
  },
  {
   "cell_type": "code",
   "execution_count": 23,
   "metadata": {
    "editable": true
   },
   "outputs": [
    {
     "data": {
      "text/plain": [
       "55075"
      ]
     },
     "execution_count": 23,
     "metadata": {},
     "output_type": "execute_result"
    }
   ],
   "source": [
    "file_name = \"airport-codes_csv.csv\"\n",
    "airport_code_df = spark.read.csv(file_name, inferSchema=True, header=True, sep=',')\n",
    "airport_code_df.count()"
   ]
  },
  {
   "cell_type": "code",
   "execution_count": 24,
   "metadata": {
    "editable": true
   },
   "outputs": [
    {
     "name": "stdout",
     "output_type": "stream",
     "text": [
      "root\n",
      " |-- ident: string (nullable = true)\n",
      " |-- type: string (nullable = true)\n",
      " |-- name: string (nullable = true)\n",
      " |-- elevation_ft: integer (nullable = true)\n",
      " |-- continent: string (nullable = true)\n",
      " |-- iso_country: string (nullable = true)\n",
      " |-- iso_region: string (nullable = true)\n",
      " |-- municipality: string (nullable = true)\n",
      " |-- gps_code: string (nullable = true)\n",
      " |-- iata_code: string (nullable = true)\n",
      " |-- local_code: string (nullable = true)\n",
      " |-- coordinates: string (nullable = true)\n",
      "\n"
     ]
    }
   ],
   "source": [
    "airport_code_df.printSchema()"
   ]
  },
  {
   "cell_type": "code",
   "execution_count": 25,
   "metadata": {
    "editable": true
   },
   "outputs": [
    {
     "data": {
      "image/png": "[encoded data removed]",
      "text/plain": [
       "<matplotlib.figure.Figure at 0x7fb3053dfbe0>"
      ]
     },
     "metadata": {
      "needs_background": "light"
     },
     "output_type": "display_data"
    }
   ],
   "source": [
    "%matplotlib inline\n",
    "plot_null_count_sparkdf(airport_code_df)"
   ]
  },
  {
   "cell_type": "markdown",
   "metadata": {
    "editable": true
   },
   "source": [
    "##### For airport code table, we need to drop the null for column iata_code, which will be used to map the data with the immigration data"
   ]
  },
  {
   "cell_type": "code",
   "execution_count": 26,
   "metadata": {
    "editable": true
   },
   "outputs": [],
   "source": [
    "# Drop the null values of columns iata_code \n",
    "airport_code_df = airport_code_df.dropna(how='any',subset=['iata_code'])"
   ]
  },
  {
   "cell_type": "code",
   "execution_count": 27,
   "metadata": {
    "editable": true
   },
   "outputs": [
    {
     "name": "stdout",
     "output_type": "stream",
     "text": [
      "root\n",
      " |-- ident: string (nullable = true)\n",
      " |-- type: string (nullable = true)\n",
      " |-- name: string (nullable = true)\n",
      " |-- elevation_ft: integer (nullable = true)\n",
      " |-- continent: string (nullable = true)\n",
      " |-- iso_country: string (nullable = true)\n",
      " |-- iso_region: string (nullable = true)\n",
      " |-- municipality: string (nullable = true)\n",
      " |-- gps_code: string (nullable = true)\n",
      " |-- iata_code: string (nullable = true)\n",
      " |-- local_code: string (nullable = true)\n",
      " |-- coordinates: string (nullable = true)\n",
      "\n"
     ]
    }
   ],
   "source": [
    "airport_code_df.printSchema()"
   ]
  },
  {
   "cell_type": "code",
   "execution_count": 28,
   "metadata": {
    "editable": true
   },
   "outputs": [
    {
     "name": "stdout",
     "output_type": "stream",
     "text": [
      "Number of records before dropping duplicate:9189\n",
      "Number of records after dropping duplicate:9189\n"
     ]
    }
   ],
   "source": [
    "# Drop duplicate \n",
    "print(f'Number of records before dropping duplicate:{airport_code_df.count()}')\n",
    "airport_code_df = airport_code_df.dropDuplicates()\n",
    "print(f'Number of records after dropping duplicate:{airport_code_df.count()}')"
   ]
  },
  {
   "cell_type": "markdown",
   "metadata": {
    "editable": true
   },
   "source": [
    "### Step 3: Define the Data Model\n",
    "#### 3.1 Conceptual Data Model\n",
    "We will use a star schema for this project because it is a great tool for an OLAP system and it is also very useful for Business Intelligence to find insights <br>\n",
    "The data model consists of 1 Fact table Immigration and 4 Dimension tables (Demographics, Time, Temperature, Airport)\n"
   ]
  },
  {
   "cell_type": "markdown",
   "metadata": {
    "editable": true
   },
   "source": [
    "![Data Model](data_model.png)"
   ]
  },
  {
   "cell_type": "markdown",
   "metadata": {
    "editable": true
   },
   "source": [
    "#### 3.2 Mapping Out Data Pipelines\n",
    "List the steps necessary to pipeline the data into the chosen data model\n",
    "<ol>\n",
    "  <li>Get data from source</li>\n",
    "  <li>Clean data by dropping null columns and duplicates</li>\n",
    "  <li>Transform data into fact and dimension tables</li>\n",
    "  <li>Save file to S3</li>\n",
    "  <li>Copy file from S3 to Redshift</li>\n",
    "\n",
    "</ol>"
   ]
  },
  {
   "cell_type": "markdown",
   "metadata": {
    "editable": true
   },
   "source": [
    "### Step 4: Run Pipelines to Model the Data \n",
    "#### 4.1 Create the data model\n",
    "Build the data pipelines to create the data model."
   ]
  },
  {
   "cell_type": "markdown",
   "metadata": {
    "editable": true
   },
   "source": [
    "#### Time Dimension "
   ]
  },
  {
   "cell_type": "code",
   "execution_count": 29,
   "metadata": {
    "editable": true
   },
   "outputs": [],
   "source": [
    "time_dim_df = immigration_df.select(['arrdate'])\n",
    "time_dim_df = time_dim_df.withColumn('arr_day', dayofmonth('arrdate'))\n",
    "time_dim_df = time_dim_df.withColumn('arr_week', weekofyear('arrdate'))\n",
    "time_dim_df = time_dim_df.withColumn('arr_month', month('arrdate'))\n",
    "time_dim_df = time_dim_df.withColumn('arr_year', year('arrdate'))\n",
    "time_dim_df = time_dim_df.withColumn('arr_weekday', dayofweek('arrdate'))\n",
    "\n",
    "# create an id field in calendar df\n",
    "time_dim_df = time_dim_df.withColumn('id', monotonically_increasing_id())"
   ]
  },
  {
   "cell_type": "code",
   "execution_count": 30,
   "metadata": {
    "editable": true
   },
   "outputs": [
    {
     "data": {
      "text/html": [
       "<div>\n",
       "<style scoped>\n",
       "    .dataframe tbody tr th:only-of-type {\n",
       "        vertical-align: middle;\n",
       "    }\n",
       "\n",
       "    .dataframe tbody tr th {\n",
       "        vertical-align: top;\n",
       "    }\n",
       "\n",
       "    .dataframe thead th {\n",
       "        text-align: right;\n",
       "    }\n",
       "</style>\n",
       "<table border=\"1\" class=\"dataframe\">\n",
       "  <thead>\n",
       "    <tr style=\"text-align: right;\">\n",
       "      <th></th>\n",
       "      <th>arrdate</th>\n",
       "      <th>arr_day</th>\n",
       "      <th>arr_week</th>\n",
       "      <th>arr_month</th>\n",
       "      <th>arr_year</th>\n",
       "      <th>arr_weekday</th>\n",
       "      <th>id</th>\n",
       "    </tr>\n",
       "  </thead>\n",
       "  <tbody>\n",
       "    <tr>\n",
       "      <th>0</th>\n",
       "      <td>2016-04-01</td>\n",
       "      <td>1</td>\n",
       "      <td>13</td>\n",
       "      <td>4</td>\n",
       "      <td>2016</td>\n",
       "      <td>6</td>\n",
       "      <td>0</td>\n",
       "    </tr>\n",
       "    <tr>\n",
       "      <th>1</th>\n",
       "      <td>2016-04-01</td>\n",
       "      <td>1</td>\n",
       "      <td>13</td>\n",
       "      <td>4</td>\n",
       "      <td>2016</td>\n",
       "      <td>6</td>\n",
       "      <td>1</td>\n",
       "    </tr>\n",
       "    <tr>\n",
       "      <th>2</th>\n",
       "      <td>2016-04-01</td>\n",
       "      <td>1</td>\n",
       "      <td>13</td>\n",
       "      <td>4</td>\n",
       "      <td>2016</td>\n",
       "      <td>6</td>\n",
       "      <td>2</td>\n",
       "    </tr>\n",
       "    <tr>\n",
       "      <th>3</th>\n",
       "      <td>2016-04-01</td>\n",
       "      <td>1</td>\n",
       "      <td>13</td>\n",
       "      <td>4</td>\n",
       "      <td>2016</td>\n",
       "      <td>6</td>\n",
       "      <td>3</td>\n",
       "    </tr>\n",
       "    <tr>\n",
       "      <th>4</th>\n",
       "      <td>2016-04-01</td>\n",
       "      <td>1</td>\n",
       "      <td>13</td>\n",
       "      <td>4</td>\n",
       "      <td>2016</td>\n",
       "      <td>6</td>\n",
       "      <td>4</td>\n",
       "    </tr>\n",
       "  </tbody>\n",
       "</table>\n",
       "</div>"
      ],
      "text/plain": [
       "     arrdate  arr_day  arr_week  arr_month  arr_year  arr_weekday  id\n",
       "0 2016-04-01        1        13          4      2016            6   0\n",
       "1 2016-04-01        1        13          4      2016            6   1\n",
       "2 2016-04-01        1        13          4      2016            6   2\n",
       "3 2016-04-01        1        13          4      2016            6   3\n",
       "4 2016-04-01        1        13          4      2016            6   4"
      ]
     },
     "execution_count": 30,
     "metadata": {},
     "output_type": "execute_result"
    }
   ],
   "source": [
    "time_dim_df.limit(5).toPandas()"
   ]
  },
  {
   "cell_type": "markdown",
   "metadata": {
    "editable": true
   },
   "source": [
    "##### Demographic Dimension"
   ]
  },
  {
   "cell_type": "code",
   "execution_count": 31,
   "metadata": {
    "editable": true
   },
   "outputs": [],
   "source": [
    "demographic_dim_df =  demographics_df.withColumnRenamed('Median Age','median_age') \\\n",
    "                                    .withColumnRenamed('Male Population', 'male_population') \\\n",
    "                                    .withColumnRenamed('Female Population', 'female_population') \\\n",
    "                                    .withColumnRenamed('Total Population', 'total_population') \\\n",
    "                                    .withColumnRenamed('Number of Veterans', 'number_of_veterans') \\\n",
    "                                    .withColumnRenamed('Foreign-born', 'foreign_born') \\\n",
    "                                    .withColumnRenamed('Average Household Size', 'average_household_size') \\\n",
    "                                    .withColumnRenamed('State Code', 'state_code')\n",
    "# Add id column\n",
    "demographic_dim_df = demographic_dim_df.withColumn('id', monotonically_increasing_id())"
   ]
  },
  {
   "cell_type": "code",
   "execution_count": 32,
   "metadata": {
    "editable": true
   },
   "outputs": [
    {
     "data": {
      "text/html": [
       "<div>\n",
       "<style scoped>\n",
       "    .dataframe tbody tr th:only-of-type {\n",
       "        vertical-align: middle;\n",
       "    }\n",
       "\n",
       "    .dataframe tbody tr th {\n",
       "        vertical-align: top;\n",
       "    }\n",
       "\n",
       "    .dataframe thead th {\n",
       "        text-align: right;\n",
       "    }\n",
       "</style>\n",
       "<table border=\"1\" class=\"dataframe\">\n",
       "  <thead>\n",
       "    <tr style=\"text-align: right;\">\n",
       "      <th></th>\n",
       "      <th>City</th>\n",
       "      <th>State</th>\n",
       "      <th>median_age</th>\n",
       "      <th>male_population</th>\n",
       "      <th>female_population</th>\n",
       "      <th>total_population</th>\n",
       "      <th>number_of_veterans</th>\n",
       "      <th>foreign_born</th>\n",
       "      <th>average_household_size</th>\n",
       "      <th>state_code</th>\n",
       "      <th>Race</th>\n",
       "      <th>Count</th>\n",
       "      <th>id</th>\n",
       "    </tr>\n",
       "  </thead>\n",
       "  <tbody>\n",
       "    <tr>\n",
       "      <th>0</th>\n",
       "      <td>Maple Grove</td>\n",
       "      <td>Minnesota</td>\n",
       "      <td>38.6</td>\n",
       "      <td>31780</td>\n",
       "      <td>36601</td>\n",
       "      <td>68381</td>\n",
       "      <td>2943</td>\n",
       "      <td>7645</td>\n",
       "      <td>2.64</td>\n",
       "      <td>MN</td>\n",
       "      <td>White</td>\n",
       "      <td>59683</td>\n",
       "      <td>0</td>\n",
       "    </tr>\n",
       "    <tr>\n",
       "      <th>1</th>\n",
       "      <td>Concord</td>\n",
       "      <td>California</td>\n",
       "      <td>39.6</td>\n",
       "      <td>62310</td>\n",
       "      <td>66358</td>\n",
       "      <td>128668</td>\n",
       "      <td>6287</td>\n",
       "      <td>37428</td>\n",
       "      <td>2.72</td>\n",
       "      <td>CA</td>\n",
       "      <td>White</td>\n",
       "      <td>92575</td>\n",
       "      <td>1</td>\n",
       "    </tr>\n",
       "    <tr>\n",
       "      <th>2</th>\n",
       "      <td>Highlands Ranch</td>\n",
       "      <td>Colorado</td>\n",
       "      <td>39.6</td>\n",
       "      <td>49186</td>\n",
       "      <td>53281</td>\n",
       "      <td>102467</td>\n",
       "      <td>4840</td>\n",
       "      <td>8827</td>\n",
       "      <td>2.72</td>\n",
       "      <td>CO</td>\n",
       "      <td>Asian</td>\n",
       "      <td>5650</td>\n",
       "      <td>2</td>\n",
       "    </tr>\n",
       "    <tr>\n",
       "      <th>3</th>\n",
       "      <td>Asheville</td>\n",
       "      <td>North Carolina</td>\n",
       "      <td>37.9</td>\n",
       "      <td>42100</td>\n",
       "      <td>46407</td>\n",
       "      <td>88507</td>\n",
       "      <td>4973</td>\n",
       "      <td>6630</td>\n",
       "      <td>2.18</td>\n",
       "      <td>NC</td>\n",
       "      <td>American Indian and Alaska Native</td>\n",
       "      <td>496</td>\n",
       "      <td>3</td>\n",
       "    </tr>\n",
       "    <tr>\n",
       "      <th>4</th>\n",
       "      <td>Westland</td>\n",
       "      <td>Michigan</td>\n",
       "      <td>39.9</td>\n",
       "      <td>37742</td>\n",
       "      <td>44253</td>\n",
       "      <td>81995</td>\n",
       "      <td>4756</td>\n",
       "      <td>6429</td>\n",
       "      <td>2.41</td>\n",
       "      <td>MI</td>\n",
       "      <td>Black or African-American</td>\n",
       "      <td>16422</td>\n",
       "      <td>4</td>\n",
       "    </tr>\n",
       "  </tbody>\n",
       "</table>\n",
       "</div>"
      ],
      "text/plain": [
       "              City           State  median_age  male_population  \\\n",
       "0      Maple Grove       Minnesota        38.6            31780   \n",
       "1          Concord      California        39.6            62310   \n",
       "2  Highlands Ranch        Colorado        39.6            49186   \n",
       "3        Asheville  North Carolina        37.9            42100   \n",
       "4         Westland        Michigan        39.9            37742   \n",
       "\n",
       "   female_population  total_population  number_of_veterans  foreign_born  \\\n",
       "0              36601             68381                2943          7645   \n",
       "1              66358            128668                6287         37428   \n",
       "2              53281            102467                4840          8827   \n",
       "3              46407             88507                4973          6630   \n",
       "4              44253             81995                4756          6429   \n",
       "\n",
       "   average_household_size state_code                               Race  \\\n",
       "0                    2.64         MN                              White   \n",
       "1                    2.72         CA                              White   \n",
       "2                    2.72         CO                              Asian   \n",
       "3                    2.18         NC  American Indian and Alaska Native   \n",
       "4                    2.41         MI          Black or African-American   \n",
       "\n",
       "   Count  id  \n",
       "0  59683   0  \n",
       "1  92575   1  \n",
       "2   5650   2  \n",
       "3    496   3  \n",
       "4  16422   4  "
      ]
     },
     "execution_count": 32,
     "metadata": {},
     "output_type": "execute_result"
    }
   ],
   "source": [
    "demographic_dim_df.limit(5).toPandas()"
   ]
  },
  {
   "cell_type": "markdown",
   "metadata": {
    "editable": true
   },
   "source": [
    "#### Temperature Dimension "
   ]
  },
  {
   "cell_type": "code",
   "execution_count": 33,
   "metadata": {
    "editable": true
   },
   "outputs": [],
   "source": [
    "with open('I94_SAS_Labels_Descriptions.SAS') as f:\n",
    "    contents = f.readlines()\n",
    "\n",
    "country_list = []\n",
    "code_list = []\n",
    "for countries in contents[10:298]:\n",
    "    pair = countries.split('=')\n",
    "    code, country = pair[0].strip(), pair[1].strip().strip(\"'\")\n",
    "    country_list.append(country)\n",
    "    code_list.append(code)\n",
    "country_code_df = {'code':code_list,'country':country_list}\n",
    "country_code_df = pd.DataFrame(country_code_df)\n",
    "temperature_df = temperature_df.withColumnRenamed('upper(Country)','country_name')\n",
    "temperature_dim_table = temperature_df.select(['dt', 'AverageTemperature', 'AverageTemperatureUncertainty',\\\n",
    "                                               'City', 'country_name'])\\\n",
    "                                      .distinct()\n",
    "\n",
    "temperature_dim_table = temperature_dim_table.select('*').groupby('country_name').avg()\n",
    "\n",
    "temperature_dim_table = temperature_dim_table.withColumnRenamed('avg(AverageTemperature)', 'average_temperature')\n",
    "temperature_dim_table = temperature_dim_table.withColumnRenamed('avg(AverageTemperatureUncertainty)', 'average_temperature_uncertainty')\n",
    "\n",
    "@udf('string')\n",
    "def get_country_code(name):\n",
    "    if name.strip() in list(country_code_df['country']):\n",
    "        code = country_code_df[country_code_df['country']==name.strip()]['code'].iloc[0]\n",
    "        return code\n",
    "    else:\n",
    "        return '996'\n",
    "\n",
    "temperature_dim_table = temperature_dim_table.withColumn(\"country_code\", get_country_code(temperature_dim_table.country_name))\n",
    "temperature_dim_table= temperature_dim_table.withColumn(\"country_code\",temperature_dim_table.country_code.cast(IntegerType()))\n",
    "\n",
    "temperature_dim_table = temperature_dim_table.withColumn('id', monotonically_increasing_id())"
   ]
  },
  {
   "cell_type": "code",
   "execution_count": 34,
   "metadata": {
    "editable": true
   },
   "outputs": [
    {
     "data": {
      "text/html": [
       "<div>\n",
       "<style scoped>\n",
       "    .dataframe tbody tr th:only-of-type {\n",
       "        vertical-align: middle;\n",
       "    }\n",
       "\n",
       "    .dataframe tbody tr th {\n",
       "        vertical-align: top;\n",
       "    }\n",
       "\n",
       "    .dataframe thead th {\n",
       "        text-align: right;\n",
       "    }\n",
       "</style>\n",
       "<table border=\"1\" class=\"dataframe\">\n",
       "  <thead>\n",
       "    <tr style=\"text-align: right;\">\n",
       "      <th></th>\n",
       "      <th>country_name</th>\n",
       "      <th>average_temperature</th>\n",
       "      <th>average_temperature_uncertainty</th>\n",
       "      <th>country_code</th>\n",
       "      <th>id</th>\n",
       "    </tr>\n",
       "  </thead>\n",
       "  <tbody>\n",
       "    <tr>\n",
       "      <th>0</th>\n",
       "      <td>SOUTH AFRICA</td>\n",
       "      <td>16.360849</td>\n",
       "      <td>0.724216</td>\n",
       "      <td>373</td>\n",
       "      <td>0</td>\n",
       "    </tr>\n",
       "    <tr>\n",
       "      <th>1</th>\n",
       "      <td>ARMENIA</td>\n",
       "      <td>8.375597</td>\n",
       "      <td>1.160792</td>\n",
       "      <td>151</td>\n",
       "      <td>1</td>\n",
       "    </tr>\n",
       "    <tr>\n",
       "      <th>2</th>\n",
       "      <td>BAHAMAS</td>\n",
       "      <td>24.786978</td>\n",
       "      <td>1.087271</td>\n",
       "      <td>512</td>\n",
       "      <td>2</td>\n",
       "    </tr>\n",
       "    <tr>\n",
       "      <th>3</th>\n",
       "      <td>BURMA</td>\n",
       "      <td>26.016840</td>\n",
       "      <td>0.880077</td>\n",
       "      <td>243</td>\n",
       "      <td>17179869184</td>\n",
       "    </tr>\n",
       "    <tr>\n",
       "      <th>4</th>\n",
       "      <td>CAMBODIA</td>\n",
       "      <td>26.918136</td>\n",
       "      <td>0.646212</td>\n",
       "      <td>996</td>\n",
       "      <td>51539607552</td>\n",
       "    </tr>\n",
       "  </tbody>\n",
       "</table>\n",
       "</div>"
      ],
      "text/plain": [
       "   country_name  average_temperature  average_temperature_uncertainty  \\\n",
       "0  SOUTH AFRICA            16.360849                         0.724216   \n",
       "1       ARMENIA             8.375597                         1.160792   \n",
       "2       BAHAMAS            24.786978                         1.087271   \n",
       "3         BURMA            26.016840                         0.880077   \n",
       "4      CAMBODIA            26.918136                         0.646212   \n",
       "\n",
       "   country_code           id  \n",
       "0           373            0  \n",
       "1           151            1  \n",
       "2           512            2  \n",
       "3           243  17179869184  \n",
       "4           996  51539607552  "
      ]
     },
     "execution_count": 34,
     "metadata": {},
     "output_type": "execute_result"
    }
   ],
   "source": [
    "temperature_dim_table.limit(5).toPandas()"
   ]
  },
  {
   "cell_type": "markdown",
   "metadata": {
    "editable": true
   },
   "source": [
    "#### Airport code Dimension"
   ]
  },
  {
   "cell_type": "code",
   "execution_count": 35,
   "metadata": {
    "editable": true
   },
   "outputs": [
    {
     "data": {
      "text/html": [
       "<div>\n",
       "<style scoped>\n",
       "    .dataframe tbody tr th:only-of-type {\n",
       "        vertical-align: middle;\n",
       "    }\n",
       "\n",
       "    .dataframe tbody tr th {\n",
       "        vertical-align: top;\n",
       "    }\n",
       "\n",
       "    .dataframe thead th {\n",
       "        text-align: right;\n",
       "    }\n",
       "</style>\n",
       "<table border=\"1\" class=\"dataframe\">\n",
       "  <thead>\n",
       "    <tr style=\"text-align: right;\">\n",
       "      <th></th>\n",
       "      <th>ident</th>\n",
       "      <th>type</th>\n",
       "      <th>name</th>\n",
       "      <th>elevation_ft</th>\n",
       "      <th>continent</th>\n",
       "      <th>iso_country</th>\n",
       "      <th>iso_region</th>\n",
       "      <th>municipality</th>\n",
       "      <th>gps_code</th>\n",
       "      <th>iata_code</th>\n",
       "      <th>local_code</th>\n",
       "      <th>coordinates</th>\n",
       "      <th>id</th>\n",
       "    </tr>\n",
       "  </thead>\n",
       "  <tbody>\n",
       "    <tr>\n",
       "      <th>0</th>\n",
       "      <td>AGAR</td>\n",
       "      <td>small_airport</td>\n",
       "      <td>Ulawa Airport</td>\n",
       "      <td>40.0</td>\n",
       "      <td>OC</td>\n",
       "      <td>SB</td>\n",
       "      <td>SB-MK</td>\n",
       "      <td>Arona</td>\n",
       "      <td>AGAR</td>\n",
       "      <td>RNA</td>\n",
       "      <td>None</td>\n",
       "      <td>161.979546547, -9.86054358262</td>\n",
       "      <td>0</td>\n",
       "    </tr>\n",
       "    <tr>\n",
       "      <th>1</th>\n",
       "      <td>AGGN</td>\n",
       "      <td>small_airport</td>\n",
       "      <td>Nusatupe Airport</td>\n",
       "      <td>13.0</td>\n",
       "      <td>OC</td>\n",
       "      <td>SB</td>\n",
       "      <td>SB-WE</td>\n",
       "      <td>Gizo</td>\n",
       "      <td>AGGN</td>\n",
       "      <td>GZO</td>\n",
       "      <td>None</td>\n",
       "      <td>156.863998413, -8.09778022766</td>\n",
       "      <td>1</td>\n",
       "    </tr>\n",
       "    <tr>\n",
       "      <th>2</th>\n",
       "      <td>AU-ZVG</td>\n",
       "      <td>small_airport</td>\n",
       "      <td>Springvale Airport</td>\n",
       "      <td>NaN</td>\n",
       "      <td>OC</td>\n",
       "      <td>AU</td>\n",
       "      <td>AU-WA</td>\n",
       "      <td>Springvale</td>\n",
       "      <td>None</td>\n",
       "      <td>ZVG</td>\n",
       "      <td>None</td>\n",
       "      <td>127.66999816894531, -17.78689956665039</td>\n",
       "      <td>2</td>\n",
       "    </tr>\n",
       "    <tr>\n",
       "      <th>3</th>\n",
       "      <td>BZB</td>\n",
       "      <td>medium_airport</td>\n",
       "      <td>Bazaruto Island Airport</td>\n",
       "      <td>NaN</td>\n",
       "      <td>AF</td>\n",
       "      <td>MZ</td>\n",
       "      <td>MZ-I</td>\n",
       "      <td>Bazaruto Island</td>\n",
       "      <td>None</td>\n",
       "      <td>BZB</td>\n",
       "      <td>None</td>\n",
       "      <td>35.4729, -21.5411</td>\n",
       "      <td>3</td>\n",
       "    </tr>\n",
       "    <tr>\n",
       "      <th>4</th>\n",
       "      <td>CN-0079</td>\n",
       "      <td>medium_airport</td>\n",
       "      <td>Shaoguan Guitou Airport</td>\n",
       "      <td>280.0</td>\n",
       "      <td>AS</td>\n",
       "      <td>CN</td>\n",
       "      <td>CN-44</td>\n",
       "      <td>Shaoguan</td>\n",
       "      <td>None</td>\n",
       "      <td>HSC</td>\n",
       "      <td>None</td>\n",
       "      <td>113.42099762, 24.9785995483</td>\n",
       "      <td>4</td>\n",
       "    </tr>\n",
       "  </tbody>\n",
       "</table>\n",
       "</div>"
      ],
      "text/plain": [
       "     ident            type                     name  elevation_ft continent  \\\n",
       "0     AGAR   small_airport            Ulawa Airport          40.0        OC   \n",
       "1     AGGN   small_airport         Nusatupe Airport          13.0        OC   \n",
       "2   AU-ZVG   small_airport       Springvale Airport           NaN        OC   \n",
       "3      BZB  medium_airport  Bazaruto Island Airport           NaN        AF   \n",
       "4  CN-0079  medium_airport  Shaoguan Guitou Airport         280.0        AS   \n",
       "\n",
       "  iso_country iso_region     municipality gps_code iata_code local_code  \\\n",
       "0          SB      SB-MK            Arona     AGAR       RNA       None   \n",
       "1          SB      SB-WE             Gizo     AGGN       GZO       None   \n",
       "2          AU      AU-WA       Springvale     None       ZVG       None   \n",
       "3          MZ       MZ-I  Bazaruto Island     None       BZB       None   \n",
       "4          CN      CN-44         Shaoguan     None       HSC       None   \n",
       "\n",
       "                              coordinates  id  \n",
       "0           161.979546547, -9.86054358262   0  \n",
       "1           156.863998413, -8.09778022766   1  \n",
       "2  127.66999816894531, -17.78689956665039   2  \n",
       "3                       35.4729, -21.5411   3  \n",
       "4             113.42099762, 24.9785995483   4  "
      ]
     },
     "execution_count": 35,
     "metadata": {},
     "output_type": "execute_result"
    }
   ],
   "source": [
    "airport_code_dim_table = airport_code_df.select('*')\n",
    "# add an id column\n",
    "airport_code_dim_table = airport_code_dim_table.withColumn('id', monotonically_increasing_id())\n",
    "airport_code_dim_table.limit(5).toPandas()"
   ]
  },
  {
   "cell_type": "markdown",
   "metadata": {
    "editable": true
   },
   "source": [
    "#### Immigration Fact "
   ]
  },
  {
   "cell_type": "code",
   "execution_count": 36,
   "metadata": {
    "editable": true
   },
   "outputs": [
    {
     "data": {
      "text/html": [
       "<div>\n",
       "<style scoped>\n",
       "    .dataframe tbody tr th:only-of-type {\n",
       "        vertical-align: middle;\n",
       "    }\n",
       "\n",
       "    .dataframe tbody tr th {\n",
       "        vertical-align: top;\n",
       "    }\n",
       "\n",
       "    .dataframe thead th {\n",
       "        text-align: right;\n",
       "    }\n",
       "</style>\n",
       "<table border=\"1\" class=\"dataframe\">\n",
       "  <thead>\n",
       "    <tr style=\"text-align: right;\">\n",
       "      <th></th>\n",
       "      <th>record_id</th>\n",
       "      <th>i94yr</th>\n",
       "      <th>i94mon</th>\n",
       "      <th>i94cit</th>\n",
       "      <th>country_residence_code</th>\n",
       "      <th>i94port</th>\n",
       "      <th>arrdate</th>\n",
       "      <th>i94mode</th>\n",
       "      <th>state_code</th>\n",
       "      <th>depdate</th>\n",
       "      <th>...</th>\n",
       "      <th>entdepa</th>\n",
       "      <th>entdepd</th>\n",
       "      <th>matflag</th>\n",
       "      <th>biryear</th>\n",
       "      <th>dtaddto</th>\n",
       "      <th>gender</th>\n",
       "      <th>airline</th>\n",
       "      <th>admnum</th>\n",
       "      <th>fltno</th>\n",
       "      <th>visatype</th>\n",
       "    </tr>\n",
       "  </thead>\n",
       "  <tbody>\n",
       "    <tr>\n",
       "      <th>0</th>\n",
       "      <td>474.0</td>\n",
       "      <td>2016.0</td>\n",
       "      <td>4.0</td>\n",
       "      <td>103.0</td>\n",
       "      <td>103</td>\n",
       "      <td>NEW</td>\n",
       "      <td>2016-04-01</td>\n",
       "      <td>2.0</td>\n",
       "      <td>None</td>\n",
       "      <td>20547.0</td>\n",
       "      <td>...</td>\n",
       "      <td>G</td>\n",
       "      <td>O</td>\n",
       "      <td>M</td>\n",
       "      <td>1991.0</td>\n",
       "      <td>06292016</td>\n",
       "      <td>F</td>\n",
       "      <td>VES</td>\n",
       "      <td>5.541044e+10</td>\n",
       "      <td>91285</td>\n",
       "      <td>WT</td>\n",
       "    </tr>\n",
       "    <tr>\n",
       "      <th>1</th>\n",
       "      <td>1508.0</td>\n",
       "      <td>2016.0</td>\n",
       "      <td>4.0</td>\n",
       "      <td>104.0</td>\n",
       "      <td>104</td>\n",
       "      <td>NYC</td>\n",
       "      <td>2016-04-01</td>\n",
       "      <td>1.0</td>\n",
       "      <td>NY</td>\n",
       "      <td>20552.0</td>\n",
       "      <td>...</td>\n",
       "      <td>G</td>\n",
       "      <td>O</td>\n",
       "      <td>M</td>\n",
       "      <td>2000.0</td>\n",
       "      <td>06292016</td>\n",
       "      <td>F</td>\n",
       "      <td>LX</td>\n",
       "      <td>5.541641e+10</td>\n",
       "      <td>00016</td>\n",
       "      <td>WT</td>\n",
       "    </tr>\n",
       "    <tr>\n",
       "      <th>2</th>\n",
       "      <td>1669.0</td>\n",
       "      <td>2016.0</td>\n",
       "      <td>4.0</td>\n",
       "      <td>104.0</td>\n",
       "      <td>104</td>\n",
       "      <td>NYC</td>\n",
       "      <td>2016-04-01</td>\n",
       "      <td>1.0</td>\n",
       "      <td>FL</td>\n",
       "      <td>20561.0</td>\n",
       "      <td>...</td>\n",
       "      <td>G</td>\n",
       "      <td>O</td>\n",
       "      <td>M</td>\n",
       "      <td>1959.0</td>\n",
       "      <td>06292016</td>\n",
       "      <td>M</td>\n",
       "      <td>AA</td>\n",
       "      <td>5.545775e+10</td>\n",
       "      <td>00039</td>\n",
       "      <td>WT</td>\n",
       "    </tr>\n",
       "    <tr>\n",
       "      <th>3</th>\n",
       "      <td>2025.0</td>\n",
       "      <td>2016.0</td>\n",
       "      <td>4.0</td>\n",
       "      <td>104.0</td>\n",
       "      <td>104</td>\n",
       "      <td>NYC</td>\n",
       "      <td>2016-04-01</td>\n",
       "      <td>1.0</td>\n",
       "      <td>NY</td>\n",
       "      <td>20549.0</td>\n",
       "      <td>...</td>\n",
       "      <td>O</td>\n",
       "      <td>O</td>\n",
       "      <td>M</td>\n",
       "      <td>1965.0</td>\n",
       "      <td>06292016</td>\n",
       "      <td>None</td>\n",
       "      <td>SN</td>\n",
       "      <td>5.541998e+10</td>\n",
       "      <td>01401</td>\n",
       "      <td>WT</td>\n",
       "    </tr>\n",
       "    <tr>\n",
       "      <th>4</th>\n",
       "      <td>2048.0</td>\n",
       "      <td>2016.0</td>\n",
       "      <td>4.0</td>\n",
       "      <td>104.0</td>\n",
       "      <td>104</td>\n",
       "      <td>MIA</td>\n",
       "      <td>2016-04-01</td>\n",
       "      <td>1.0</td>\n",
       "      <td>FL</td>\n",
       "      <td>20554.0</td>\n",
       "      <td>...</td>\n",
       "      <td>O</td>\n",
       "      <td>O</td>\n",
       "      <td>M</td>\n",
       "      <td>2013.0</td>\n",
       "      <td>06292016</td>\n",
       "      <td>None</td>\n",
       "      <td>UX</td>\n",
       "      <td>5.545690e+10</td>\n",
       "      <td>00097</td>\n",
       "      <td>WT</td>\n",
       "    </tr>\n",
       "  </tbody>\n",
       "</table>\n",
       "<p>5 rows × 25 columns</p>\n",
       "</div>"
      ],
      "text/plain": [
       "   record_id   i94yr  i94mon  i94cit  country_residence_code i94port  \\\n",
       "0      474.0  2016.0     4.0   103.0                     103     NEW   \n",
       "1     1508.0  2016.0     4.0   104.0                     104     NYC   \n",
       "2     1669.0  2016.0     4.0   104.0                     104     NYC   \n",
       "3     2025.0  2016.0     4.0   104.0                     104     NYC   \n",
       "4     2048.0  2016.0     4.0   104.0                     104     MIA   \n",
       "\n",
       "     arrdate  i94mode state_code  depdate   ...     entdepa  entdepd  matflag  \\\n",
       "0 2016-04-01      2.0       None  20547.0   ...           G        O        M   \n",
       "1 2016-04-01      1.0         NY  20552.0   ...           G        O        M   \n",
       "2 2016-04-01      1.0         FL  20561.0   ...           G        O        M   \n",
       "3 2016-04-01      1.0         NY  20549.0   ...           O        O        M   \n",
       "4 2016-04-01      1.0         FL  20554.0   ...           O        O        M   \n",
       "\n",
       "  biryear   dtaddto gender airline        admnum  fltno visatype  \n",
       "0  1991.0  06292016      F     VES  5.541044e+10  91285       WT  \n",
       "1  2000.0  06292016      F      LX  5.541641e+10  00016       WT  \n",
       "2  1959.0  06292016      M      AA  5.545775e+10  00039       WT  \n",
       "3  1965.0  06292016   None      SN  5.541998e+10  01401       WT  \n",
       "4  2013.0  06292016   None      UX  5.545690e+10  00097       WT  \n",
       "\n",
       "[5 rows x 25 columns]"
      ]
     },
     "execution_count": 36,
     "metadata": {},
     "output_type": "execute_result"
    }
   ],
   "source": [
    "immigration_fact_table = immigration_df.withColumnRenamed('cicid','record_id') \\\n",
    "                                       .withColumnRenamed('i94res', 'country_residence_code') \\\n",
    "                                       .withColumnRenamed('i94addr', 'state_code') \n",
    "    \n",
    "immigration_fact_table= immigration_fact_table.withColumn(\"country_residence_code\",immigration_fact_table.country_residence_code.cast(IntegerType()))\n",
    "immigration_fact_table.limit(5).toPandas()"
   ]
  },
  {
   "cell_type": "code",
   "execution_count": null,
   "metadata": {
    "editable": true
   },
   "outputs": [],
   "source": []
  },
  {
   "cell_type": "code",
   "execution_count": null,
   "metadata": {
    "editable": true
   },
   "outputs": [],
   "source": []
  },
  {
   "cell_type": "markdown",
   "metadata": {
    "editable": true
   },
   "source": [
    "#### 4.2 Data Quality Checks\n",
    "Explain the data quality checks you'll perform to ensure the pipeline ran as expected. These could include:\n",
    " * Integrity constraints on the relational database (e.g., unique key, data type, etc.)\n",
    " * Unit tests for the scripts to ensure they are doing the right thing\n",
    " * Source/Count checks to ensure completeness\n",
    " \n",
    "Run Quality Checks"
   ]
  },
  {
   "cell_type": "code",
   "execution_count": 37,
   "metadata": {
    "editable": true
   },
   "outputs": [],
   "source": [
    "# Perform quality checks here\n",
    "def data_count_check(df, table_name):\n",
    "    \"\"\"Count checks on fact and dimension table to ensure completeness of data.\n",
    "        :param df: spark dataframe to check counts on\n",
    "        :param table_name: corresponding name of table\n",
    "        \"\"\"\n",
    "    total_count = df.count()\n",
    "\n",
    "    if total_count == 0:\n",
    "        print(f\"Data count check failed for {table_name} with zero records!\")\n",
    "        return False\n",
    "    else:\n",
    "        print(f\"Data count check passed for {table_name} with {total_count:,} records.\")\n",
    "        return True\n",
    "    \n",
    "def unique_key_check(df, unique_key_name, table_name):\n",
    "    dupes = df.groupBy(unique_key_name).count().filter(\"count > 1\")\n",
    "    if dupes.count() == 0:\n",
    "        print(f\"Data quality pass for {table_name} with no duplicate on unique key column!\")\n",
    "        return True\n",
    "    else: \n",
    "        print(f\"Data quality failed for {table_name} with duplicate on unique key column!\")\n",
    "        return False"
   ]
  },
  {
   "cell_type": "code",
   "execution_count": 38,
   "metadata": {
    "editable": true
   },
   "outputs": [
    {
     "name": "stdout",
     "output_type": "stream",
     "text": [
      "Data count check passed for Temperature Dimension Table with 159 records.\n",
      "Data quality pass for Temperature Dimension Table with no duplicate on unique key column!\n"
     ]
    },
    {
     "data": {
      "text/plain": [
       "True"
      ]
     },
     "execution_count": 38,
     "metadata": {},
     "output_type": "execute_result"
    }
   ],
   "source": [
    "temperature_dimension_check = data_count_check (temperature_dim_table, 'Temperature Dimension Table') & \\\n",
    "                              unique_key_check(temperature_dim_table, 'id', 'Temperature Dimension Table')\n",
    "temperature_dimension_check"
   ]
  },
  {
   "cell_type": "code",
   "execution_count": 39,
   "metadata": {
    "editable": true
   },
   "outputs": [],
   "source": [
    "# immigration_fact_check = data_count_check (immigration_fact_table, 'Immigration Fact Table') & \\\n",
    "#                          unique_key_check(immigration_fact_table, 'record_id', 'Immigration Fact Table')\n",
    "# if immigration_fact_check: \n",
    "#     immigration_fact_table.write.parquet(output_path + \"immigration_fact\", mode=\"overwrite\")\n",
    "\n",
    "# time_dimension_check = data_count_check (time_dimension_table, 'Time Dimension Table') & \\\n",
    "#                        unique_key_check(time_dimension_table, 'id', 'Time Dimension Table')\n",
    "# if time_dimension_check: \n",
    "#     partition_columns = ['arr_year', 'arr_month', 'arr_week']\n",
    "#     time_dimension_table.write.parquet(output_path + \"time_dimension\", partitionBy=partition_columns, mode=\"overwrite\")\n",
    "\n",
    "# demographics_dimension_check = data_count_check (demographics_dimension_table, 'Demographics Dimension Table') &\\\n",
    "#                                unique_key_check(demographics_dimension_table, 'id', 'Demographics Dimension Table')\n",
    "\n",
    "# if demographics_dimension_check:\n",
    "#     demographics_dimension_table.write.parquet(output_path + \"demographics_dimension\", mode=\"overwrite\")\n",
    "\n",
    "# airport_code_check = data_count_check (airport_code_dimension_table, 'Airport Code Dimension Table') & \\\n",
    "#                      unique_key_check(airport_code_dimension_table, 'id', 'Airport Code Dimension Table')\n",
    "# if airport_code_check: \n",
    "#     airport_code_dimension_table.write.parquet(output_path + \"airport_code_dimension\", mode=\"overwrite\")\n",
    "\n",
    "# temperature_dimension_check = data_count_check (temperature_dimension_table, 'Temperature Dimension Table') & \\\n",
    "#                               unique_key_check(temperature_dimension_table, 'id', 'Temperature Dimension Table')\n",
    "\n",
    "# if temperature_dimension_check:\n",
    "#     temperature_dimension_table.write.mode(\"overwrite\").parquet(path=output_path + 'temperature_dimension')"
   ]
  },
  {
   "cell_type": "code",
   "execution_count": null,
   "metadata": {
    "editable": true
   },
   "outputs": [],
   "source": []
  },
  {
   "cell_type": "markdown",
   "metadata": {
    "editable": true
   },
   "source": [
    "#### 4.3 Data dictionary \n",
    "For each field in dimension and fact tables, I have provided a brief description of what the data is and where it came from. You can see it in the excel files within data_dictionary folder"
   ]
  },
  {
   "cell_type": "markdown",
   "metadata": {
    "editable": true
   },
   "source": [
    "#### Step 5: Complete Project Write Up\n",
    "\n",
    "\n",
    "<ol>\n",
    "  <li>Rationale for the choice of tools and technologies for the project.\n",
    "  <ol>\n",
    "      <li>Apache Spark: Spark has the ability to handle big data with very high speed. It offers a lightning-fast unified analytics engine for big data and it is very easy to use</li>\n",
    "      <li>Amazon S3: S3 offers industry-leading scalability, data availability, security, and performance. You can use Amazon S3 to store and retrieve any amount of data at any time, from anywhere.</li>\n",
    "      <li>Amazon Redshift: Redshift can handle huge volumes of data — capable of processing structured and unstructured data in the range of exabytes (1018 bytes). The service can also be used for large-scale data migrations. </li>\n",
    "  </ol>\n",
    "  </li>\n",
    "  <li> How often the data should be updated and why\n",
    "  <ol>\n",
    "      <li>The data should be update on a monthly basis since the I94 data is updated every month</li>\n",
    "   </ol>\n",
    "   </li>\n",
    "  <li>Write a description of how you would approach the problem differently under the following scenarios:\n",
    "    <ol>\n",
    "      <li>The data was increased by 100x.: Spark and S3 can handle the increased amount of data. We will need to increase the numbers of nodes for Spark cluster</li>\n",
    "      <li>The data populates a dashboard that must be updated on a daily basis by 7am every day: We can use Airflow to schedule a DAG that runs on a daily basis at 7am</li>\n",
    "      <li> The database needed to be accessed by 100+ people: Since the data is being stored in Amazon Redshift, we can manage the access for those people by creating policies on AWS to manage access for those people</li>\n",
    "    </ol>\n",
    "  </li>\n",
    "</ol>"
   ]
  },
  {
   "cell_type": "code",
   "execution_count": null,
   "metadata": {
    "editable": true
   },
   "outputs": [],
   "source": []
  },
  {
   "cell_type": "markdown",
   "metadata": {
    "editable": true
   },
   "source": [
    "##### Example use of the database system\n",
    "\n",
    "From the system that we have created, we can create a querry to test the relationship between the number of immigrant and time of the year, to see what most immigrants are arriving in which month."
   ]
  },
  {
   "cell_type": "markdown",
   "metadata": {
    "editable": true
   },
   "source": [
    "![Data Model](data_model.png)|"
   ]
  },
  {
   "cell_type": "code",
   "execution_count": 42,
   "metadata": {
    "editable": true
   },
   "outputs": [],
   "source": [
    "immigration_fact_table = immigration_fact_table.persist()\n",
    "time_dim_df = time_dim_df.persist()"
   ]
  },
  {
   "cell_type": "code",
   "execution_count": null,
   "metadata": {
    "editable": true
   },
   "outputs": [],
   "source": [
    "join_df = immigration_fact_table.join(time_dim_df,immigration_fact_table.arrdate == time_dim_df.arrdate,\"left\")\\\n",
    "                                .select(immigration_fact_table.arrdate,time_dim_df.arr_month)\\\n",
    "                                .groupBy(\"arr_month\")\\\n",
    "                                .count()\\\n",
    "                                .withColumnRenamed(\"count\",\"count_by_month\")\\\n",
    "                                .sort(desc(\"count\"))\\\n",
    "                                .limit(5).toPandas()"
   ]
  },
  {
   "cell_type": "code",
   "execution_count": null,
   "metadata": {
    "editable": true
   },
   "outputs": [],
   "source": []
  }
 ],
 "metadata": {
  "kernelspec": {
   "display_name": "Python 3",
   "language": "python",
   "name": "python3"
  },
  "language_info": {
   "codemirror_mode": {
    "name": "ipython",
    "version": 3
   },
   "file_extension": ".py",
   "mimetype": "text/x-python",
   "name": "python",
   "nbconvert_exporter": "python",
   "pygments_lexer": "ipython3",
   "version": "3.6.3"
  }
 },
 "nbformat": 4,
 "nbformat_minor": 4
}
